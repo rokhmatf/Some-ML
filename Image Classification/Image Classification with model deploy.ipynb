{
  "nbformat": 4,
  "nbformat_minor": 0,
  "metadata": {
    "colab": {
      "name": "Dicoding Image Classification Model Deployment.ipynb",
      "provenance": []
    },
    "kernelspec": {
      "name": "python3",
      "display_name": "Python 3"
    },
    "language_info": {
      "name": "python"
    },
    "accelerator": "GPU"
  },
  "cells": [
    {
      "cell_type": "code",
      "metadata": {
        "id": "UFrC9ovYtXYS"
      },
      "source": [
        "import matplotlib.pyplot as plt\n",
        "import numpy as np\n",
        "import os\n",
        "import PIL\n",
        "import shutil\n",
        "import tensorflow as tf\n",
        "\n",
        "from tensorflow import keras\n",
        "from tensorflow.keras import layers\n",
        "from tensorflow.keras.preprocessing.image import ImageDataGenerator\n",
        "from tensorflow.keras.callbacks import EarlyStopping\n",
        "from tensorflow.keras.models import Sequential\n",
        "\n",
        "from PIL import Image"
      ],
      "execution_count": 1,
      "outputs": []
    },
    {
      "cell_type": "code",
      "metadata": {
        "colab": {
          "resources": {
            "http://localhost:8080/nbextensions/google.colab/files.js": {
              "data": "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",
              "ok": true,
              "headers": [
                [
                  "content-type",
                  "application/javascript"
                ]
              ],
              "status": 200,
              "status_text": ""
            }
          },
          "base_uri": "https://localhost:8080/",
          "height": 90
        },
        "id": "ktb4a9Zgtq44",
        "outputId": "87a0dbd2-cbc2-4439-c14c-1a3a3d031b91"
      },
      "source": [
        "!pip install -q kaggle\n",
        "\n",
        "from google.colab import files\n",
        "files.upload()"
      ],
      "execution_count": 2,
      "outputs": [
        {
          "output_type": "display_data",
          "data": {
            "text/html": [
              "\n",
              "     <input type=\"file\" id=\"files-ab126791-3c6b-4eb0-aec1-c3e5304582a9\" name=\"files[]\" multiple disabled\n",
              "        style=\"border:none\" />\n",
              "     <output id=\"result-ab126791-3c6b-4eb0-aec1-c3e5304582a9\">\n",
              "      Upload widget is only available when the cell has been executed in the\n",
              "      current browser session. Please rerun this cell to enable.\n",
              "      </output>\n",
              "      <script src=\"/nbextensions/google.colab/files.js\"></script> "
            ],
            "text/plain": [
              "<IPython.core.display.HTML object>"
            ]
          },
          "metadata": {
            "tags": []
          }
        },
        {
          "output_type": "stream",
          "text": [
            "Saving kaggle.json to kaggle.json\n"
          ],
          "name": "stdout"
        },
        {
          "output_type": "execute_result",
          "data": {
            "text/plain": [
              "{'kaggle.json': b'{\"username\":\"rokhmatfebrianto\",\"key\":\"4ab62fb9df572429a29170394dcb244f\"}'}"
            ]
          },
          "metadata": {
            "tags": []
          },
          "execution_count": 2
        }
      ]
    },
    {
      "cell_type": "code",
      "metadata": {
        "colab": {
          "base_uri": "https://localhost:8080/"
        },
        "id": "1aLl0qCQts2V",
        "outputId": "af5823f5-2910-4f5c-835d-4f2b370102f3"
      },
      "source": [
        "!mkdir -p ~/.kaggle\n",
        "!cp kaggle.json ~/.kaggle/\n",
        "!chmod 600 ~/.kaggle/kaggle.json\n",
        "!ls ~/.kaggle"
      ],
      "execution_count": 3,
      "outputs": [
        {
          "output_type": "stream",
          "text": [
            "kaggle.json\n"
          ],
          "name": "stdout"
        }
      ]
    },
    {
      "cell_type": "code",
      "metadata": {
        "colab": {
          "base_uri": "https://localhost:8080/"
        },
        "id": "bkiwURPbtuyO",
        "outputId": "3917f831-718c-471d-98b6-86b916e8e8a7"
      },
      "source": [
        "!kaggle datasets download -d madisona/translated-animals10"
      ],
      "execution_count": 4,
      "outputs": [
        {
          "output_type": "stream",
          "text": [
            "Downloading translated-animals10.zip to /content\n",
            " 98% 576M/586M [00:03<00:00, 177MB/s]\n",
            "100% 586M/586M [00:03<00:00, 169MB/s]\n"
          ],
          "name": "stdout"
        }
      ]
    },
    {
      "cell_type": "code",
      "metadata": {
        "colab": {
          "base_uri": "https://localhost:8080/"
        },
        "id": "zgCzMqZttzZu",
        "outputId": "3a65a9c3-96ef-436a-ea4e-b51441439d1d"
      },
      "source": [
        "# unzip\n",
        "!mkdir animals\n",
        "!unzip -qq translated-animals10.zip -d animals\n",
        "!ls animals"
      ],
      "execution_count": 5,
      "outputs": [
        {
          "output_type": "stream",
          "text": [
            "animals10\n"
          ],
          "name": "stdout"
        }
      ]
    },
    {
      "cell_type": "code",
      "metadata": {
        "colab": {
          "base_uri": "https://localhost:8080/"
        },
        "id": "kX2t1f_2t2NJ",
        "outputId": "d0a034d3-74f7-43cf-b851-e64b24419e62"
      },
      "source": [
        "animals = os.path.join('/content/animals/animals10/raw-img/')\n",
        "\n",
        "print(os.listdir(animals))"
      ],
      "execution_count": 6,
      "outputs": [
        {
          "output_type": "stream",
          "text": [
            "['chicken', 'squirrel', 'dog', 'horse', 'elephant', 'cat', 'butterfly', 'cow', 'sheep', 'spider']\n"
          ],
          "name": "stdout"
        }
      ]
    },
    {
      "cell_type": "code",
      "metadata": {
        "id": "eINqUzZwt2-p"
      },
      "source": [
        "ignore = ['squirrel', 'cat', 'sheep', 'cow', 'elephant']\n",
        "\n",
        "for x in ignore:\n",
        "  path = os.path.join(animals, x)\n",
        "  shutil.rmtree(path)"
      ],
      "execution_count": 7,
      "outputs": []
    },
    {
      "cell_type": "code",
      "metadata": {
        "colab": {
          "base_uri": "https://localhost:8080/"
        },
        "id": "88ozMw9huBwW",
        "outputId": "e6c5e40a-c834-461a-816f-7ccc550a72be"
      },
      "source": [
        "list_animals = os.listdir(animals)\n",
        "print(list_animals)"
      ],
      "execution_count": 8,
      "outputs": [
        {
          "output_type": "stream",
          "text": [
            "['chicken', 'dog', 'horse', 'butterfly', 'spider']\n"
          ],
          "name": "stdout"
        }
      ]
    },
    {
      "cell_type": "code",
      "metadata": {
        "colab": {
          "base_uri": "https://localhost:8080/"
        },
        "id": "CQMjJiBHuDce",
        "outputId": "52eeca34-3341-42ba-8d17-0eaa21a3bab8"
      },
      "source": [
        "tot = 0\n",
        "\n",
        "for x in list_animals:\n",
        "  dir = os.path.join(animals, x)\n",
        "  y = len(os.listdir(dir))\n",
        "  print(x+':', y)\n",
        "  tot = tot + y\n",
        "  \n",
        "  img_name = os.listdir(dir)\n",
        "\n",
        "  for z in range(4):\n",
        "    img_path = os.path.join(dir, img_name[z])\n",
        "    img = Image.open(img_path)\n",
        "    print('-',img.size)\n",
        "  print('---------------')\n",
        "\n",
        "print('\\nTotal Image :', tot)"
      ],
      "execution_count": 9,
      "outputs": [
        {
          "output_type": "stream",
          "text": [
            "chicken: 3098\n",
            "- (300, 273)\n",
            "- (300, 225)\n",
            "- (269, 300)\n",
            "- (251, 300)\n",
            "---------------\n",
            "dog: 4863\n",
            "- (282, 300)\n",
            "- (201, 300)\n",
            "- (300, 300)\n",
            "- (300, 225)\n",
            "---------------\n",
            "horse: 2623\n",
            "- (300, 169)\n",
            "- (300, 240)\n",
            "- (300, 169)\n",
            "- (300, 225)\n",
            "---------------\n",
            "butterfly: 2112\n",
            "- (300, 201)\n",
            "- (300, 225)\n",
            "- (300, 300)\n",
            "- (640, 426)\n",
            "---------------\n",
            "spider: 4821\n",
            "- (300, 225)\n",
            "- (300, 240)\n",
            "- (300, 193)\n",
            "- (300, 200)\n",
            "---------------\n",
            "\n",
            "Total Image : 17517\n"
          ],
          "name": "stdout"
        }
      ]
    },
    {
      "cell_type": "markdown",
      "metadata": {
        "id": "jiif8TlluGtJ"
      },
      "source": [
        "**Dataset dibagi menjadi 80% train set dan 20% test set.**"
      ]
    },
    {
      "cell_type": "code",
      "metadata": {
        "id": "ysnlLhOWuIFZ"
      },
      "source": [
        "train_datagen = ImageDataGenerator(\n",
        "    rotation_range=30,\n",
        "    width_shift_range=0.2,\n",
        "    height_shift_range=0.2,\n",
        "    rescale=1/255,\n",
        "    zoom_range=0.3,\n",
        "    horizontal_flip=True,\n",
        "    fill_mode='nearest',\n",
        "    validation_split=0.2    # Dataset dibagi menjadi 80% train set dan 20% test set.   \n",
        ")"
      ],
      "execution_count": 10,
      "outputs": []
    },
    {
      "cell_type": "code",
      "metadata": {
        "id": "iO29cVeluKT2"
      },
      "source": [
        "batch_size = 256\n",
        "img_height = 180\n",
        "img_width = 180"
      ],
      "execution_count": 11,
      "outputs": []
    },
    {
      "cell_type": "code",
      "metadata": {
        "colab": {
          "base_uri": "https://localhost:8080/"
        },
        "id": "Br33uOoyuL-n",
        "outputId": "d9b5af62-c9f8-4ee6-bfc5-188c7bd30eb4"
      },
      "source": [
        "train_ds = train_datagen.flow_from_directory(\n",
        "  animals,\n",
        "  subset=\"training\",\n",
        "  class_mode='categorical',\n",
        "  target_size=(img_height, img_width),\n",
        "  batch_size=batch_size)\n",
        "\n",
        "val_ds = train_datagen.flow_from_directory(\n",
        "  animals,\n",
        "  subset=\"validation\",\n",
        "  class_mode='categorical',\n",
        "  target_size=(img_height, img_width),\n",
        "  batch_size=batch_size)"
      ],
      "execution_count": 12,
      "outputs": [
        {
          "output_type": "stream",
          "text": [
            "Found 14016 images belonging to 5 classes.\n",
            "Found 3501 images belonging to 5 classes.\n"
          ],
          "name": "stdout"
        }
      ]
    },
    {
      "cell_type": "code",
      "metadata": {
        "id": "8l_JGOsXuPCG"
      },
      "source": [
        "normalization_layer = layers.experimental.preprocessing.Rescaling(1./255)"
      ],
      "execution_count": 13,
      "outputs": []
    },
    {
      "cell_type": "code",
      "metadata": {
        "id": "fLgR05yFuRS1"
      },
      "source": [
        "number_classes = 5\n",
        "tf.device('/device:GPU:0')\n",
        "\n",
        "model = tf.keras.models.Sequential([\n",
        "    tf.keras.layers.Conv2D(64, (3,3), activation='relu', input_shape=(img_height, img_width, 3)),\n",
        "    tf.keras.layers.MaxPooling2D(2, 2),\n",
        "    tf.keras.layers.Conv2D(64, (3,3), activation='relu'),\n",
        "    tf.keras.layers.MaxPooling2D(2,2),\n",
        "    tf.keras.layers.Conv2D(128, (3,3), activation='relu'),\n",
        "    tf.keras.layers.MaxPooling2D(2,2),\n",
        "    tf.keras.layers.Conv2D(128, (3,3), activation='relu'),\n",
        "    tf.keras.layers.MaxPooling2D(2,2),\n",
        "    tf.keras.layers.Conv2D(256, (3,3), activation='relu'),\n",
        "    tf.keras.layers.MaxPooling2D(2,2),\n",
        "    tf.keras.layers.Flatten(),\n",
        "    tf.keras.layers.Dropout(0.5), \n",
        "    tf.keras.layers.Dense(512, activation='relu'),\n",
        "    tf.keras.layers.Dense(number_classes, activation='softmax')\n",
        "])"
      ],
      "execution_count": 14,
      "outputs": []
    },
    {
      "cell_type": "code",
      "metadata": {
        "id": "la4D-P5eugC6"
      },
      "source": [
        "model.compile(optimizer='adam',\n",
        "              loss='categorical_crossentropy',\n",
        "              metrics = ['accuracy'])"
      ],
      "execution_count": 15,
      "outputs": []
    },
    {
      "cell_type": "code",
      "metadata": {
        "colab": {
          "base_uri": "https://localhost:8080/"
        },
        "id": "y_8MWs7wuiK3",
        "outputId": "610fffc7-51f4-4695-963d-386fdf7add4c"
      },
      "source": [
        "model.summary()"
      ],
      "execution_count": 16,
      "outputs": [
        {
          "output_type": "stream",
          "text": [
            "Model: \"sequential\"\n",
            "_________________________________________________________________\n",
            "Layer (type)                 Output Shape              Param #   \n",
            "=================================================================\n",
            "conv2d (Conv2D)              (None, 178, 178, 64)      1792      \n",
            "_________________________________________________________________\n",
            "max_pooling2d (MaxPooling2D) (None, 89, 89, 64)        0         \n",
            "_________________________________________________________________\n",
            "conv2d_1 (Conv2D)            (None, 87, 87, 64)        36928     \n",
            "_________________________________________________________________\n",
            "max_pooling2d_1 (MaxPooling2 (None, 43, 43, 64)        0         \n",
            "_________________________________________________________________\n",
            "conv2d_2 (Conv2D)            (None, 41, 41, 128)       73856     \n",
            "_________________________________________________________________\n",
            "max_pooling2d_2 (MaxPooling2 (None, 20, 20, 128)       0         \n",
            "_________________________________________________________________\n",
            "conv2d_3 (Conv2D)            (None, 18, 18, 128)       147584    \n",
            "_________________________________________________________________\n",
            "max_pooling2d_3 (MaxPooling2 (None, 9, 9, 128)         0         \n",
            "_________________________________________________________________\n",
            "conv2d_4 (Conv2D)            (None, 7, 7, 256)         295168    \n",
            "_________________________________________________________________\n",
            "max_pooling2d_4 (MaxPooling2 (None, 3, 3, 256)         0         \n",
            "_________________________________________________________________\n",
            "flatten (Flatten)            (None, 2304)              0         \n",
            "_________________________________________________________________\n",
            "dropout (Dropout)            (None, 2304)              0         \n",
            "_________________________________________________________________\n",
            "dense (Dense)                (None, 512)               1180160   \n",
            "_________________________________________________________________\n",
            "dense_1 (Dense)              (None, 5)                 2565      \n",
            "=================================================================\n",
            "Total params: 1,738,053\n",
            "Trainable params: 1,738,053\n",
            "Non-trainable params: 0\n",
            "_________________________________________________________________\n"
          ],
          "name": "stdout"
        }
      ]
    },
    {
      "cell_type": "code",
      "metadata": {
        "id": "VYHoGu4BulOx"
      },
      "source": [
        "class myCallback(tf.keras.callbacks.Callback):\n",
        "  def on_epoch_end(self, epoch, logs={}):\n",
        "    if(logs.get('accuracy')>0.92 and logs.get('val_accuracy')>0.92):\n",
        "      print(\"\\nAccuracy above 92%, finish training!\")\n",
        "      self.model.stop_training = True\n",
        "\n",
        "callbacks = myCallback()"
      ],
      "execution_count": 17,
      "outputs": []
    },
    {
      "cell_type": "code",
      "metadata": {
        "colab": {
          "base_uri": "https://localhost:8080/"
        },
        "id": "3ItFaGQjuwYv",
        "outputId": "16b93804-c65d-4dae-a9dd-f0ba041d5070"
      },
      "source": [
        "number_epochs = 50\n",
        "\n",
        "history = model.fit(train_ds, \n",
        "                    epochs = number_epochs, \n",
        "                    steps_per_epoch = train_ds.samples // batch_size,\n",
        "                    validation_data = val_ds, \n",
        "                    validation_steps = val_ds.samples // batch_size,\n",
        "                    verbose = 1,\n",
        "                    callbacks = [callbacks])"
      ],
      "execution_count": 18,
      "outputs": [
        {
          "output_type": "stream",
          "text": [
            "Epoch 1/50\n",
            "54/54 [==============================] - 201s 3s/step - loss: 1.4884 - accuracy: 0.3191 - val_loss: 1.3985 - val_accuracy: 0.3981\n",
            "Epoch 2/50\n",
            "54/54 [==============================] - 162s 3s/step - loss: 1.3237 - accuracy: 0.4344 - val_loss: 1.2701 - val_accuracy: 0.4657\n",
            "Epoch 3/50\n",
            "54/54 [==============================] - 161s 3s/step - loss: 1.1627 - accuracy: 0.5350 - val_loss: 1.0753 - val_accuracy: 0.5757\n",
            "Epoch 4/50\n",
            "54/54 [==============================] - 161s 3s/step - loss: 1.0335 - accuracy: 0.6011 - val_loss: 0.9518 - val_accuracy: 0.6370\n",
            "Epoch 5/50\n",
            "54/54 [==============================] - 161s 3s/step - loss: 0.8971 - accuracy: 0.6602 - val_loss: 0.8878 - val_accuracy: 0.6638\n",
            "Epoch 6/50\n",
            "54/54 [==============================] - 160s 3s/step - loss: 0.8415 - accuracy: 0.6807 - val_loss: 0.8523 - val_accuracy: 0.6749\n",
            "Epoch 7/50\n",
            "54/54 [==============================] - 159s 3s/step - loss: 0.7635 - accuracy: 0.7198 - val_loss: 0.7371 - val_accuracy: 0.7178\n",
            "Epoch 8/50\n",
            "54/54 [==============================] - 159s 3s/step - loss: 0.7390 - accuracy: 0.7233 - val_loss: 0.7491 - val_accuracy: 0.7184\n",
            "Epoch 9/50\n",
            "54/54 [==============================] - 159s 3s/step - loss: 0.6844 - accuracy: 0.7453 - val_loss: 0.6405 - val_accuracy: 0.7674\n",
            "Epoch 10/50\n",
            "54/54 [==============================] - 158s 3s/step - loss: 0.6532 - accuracy: 0.7594 - val_loss: 0.6584 - val_accuracy: 0.7515\n",
            "Epoch 11/50\n",
            "54/54 [==============================] - 158s 3s/step - loss: 0.6571 - accuracy: 0.7584 - val_loss: 0.6253 - val_accuracy: 0.7707\n",
            "Epoch 12/50\n",
            "54/54 [==============================] - 157s 3s/step - loss: 0.6355 - accuracy: 0.7647 - val_loss: 0.5702 - val_accuracy: 0.7894\n",
            "Epoch 13/50\n",
            "54/54 [==============================] - 160s 3s/step - loss: 0.6021 - accuracy: 0.7828 - val_loss: 0.5970 - val_accuracy: 0.7891\n",
            "Epoch 14/50\n",
            "54/54 [==============================] - 159s 3s/step - loss: 0.5693 - accuracy: 0.7922 - val_loss: 0.5340 - val_accuracy: 0.8035\n",
            "Epoch 15/50\n",
            "54/54 [==============================] - 158s 3s/step - loss: 0.5554 - accuracy: 0.7993 - val_loss: 0.6289 - val_accuracy: 0.7725\n",
            "Epoch 16/50\n",
            "54/54 [==============================] - 162s 3s/step - loss: 0.5441 - accuracy: 0.8029 - val_loss: 0.5030 - val_accuracy: 0.8185\n",
            "Epoch 17/50\n",
            "54/54 [==============================] - 171s 3s/step - loss: 0.5110 - accuracy: 0.8155 - val_loss: 0.4907 - val_accuracy: 0.8230\n",
            "Epoch 18/50\n",
            "54/54 [==============================] - 160s 3s/step - loss: 0.4992 - accuracy: 0.8193 - val_loss: 0.4973 - val_accuracy: 0.8188\n",
            "Epoch 19/50\n",
            "54/54 [==============================] - 160s 3s/step - loss: 0.4970 - accuracy: 0.8210 - val_loss: 0.4715 - val_accuracy: 0.8269\n",
            "Epoch 20/50\n",
            "54/54 [==============================] - 160s 3s/step - loss: 0.5084 - accuracy: 0.8139 - val_loss: 0.4646 - val_accuracy: 0.8308\n",
            "Epoch 21/50\n",
            "54/54 [==============================] - 160s 3s/step - loss: 0.4689 - accuracy: 0.8329 - val_loss: 0.5051 - val_accuracy: 0.8170\n",
            "Epoch 22/50\n",
            "54/54 [==============================] - 160s 3s/step - loss: 0.4792 - accuracy: 0.8262 - val_loss: 0.4925 - val_accuracy: 0.8260\n",
            "Epoch 23/50\n",
            "54/54 [==============================] - 158s 3s/step - loss: 0.4722 - accuracy: 0.8278 - val_loss: 0.4808 - val_accuracy: 0.8239\n",
            "Epoch 24/50\n",
            "54/54 [==============================] - 158s 3s/step - loss: 0.4520 - accuracy: 0.8336 - val_loss: 0.4516 - val_accuracy: 0.8380\n",
            "Epoch 25/50\n",
            "54/54 [==============================] - 158s 3s/step - loss: 0.4538 - accuracy: 0.8351 - val_loss: 0.5050 - val_accuracy: 0.8125\n",
            "Epoch 26/50\n",
            "54/54 [==============================] - 158s 3s/step - loss: 0.4479 - accuracy: 0.8393 - val_loss: 0.4599 - val_accuracy: 0.8341\n",
            "Epoch 27/50\n",
            "54/54 [==============================] - 158s 3s/step - loss: 0.4378 - accuracy: 0.8419 - val_loss: 0.4495 - val_accuracy: 0.8398\n",
            "Epoch 28/50\n",
            "54/54 [==============================] - 157s 3s/step - loss: 0.4286 - accuracy: 0.8431 - val_loss: 0.4351 - val_accuracy: 0.8501\n",
            "Epoch 29/50\n",
            "54/54 [==============================] - 157s 3s/step - loss: 0.4184 - accuracy: 0.8499 - val_loss: 0.4735 - val_accuracy: 0.8272\n",
            "Epoch 30/50\n",
            "54/54 [==============================] - 163s 3s/step - loss: 0.4088 - accuracy: 0.8576 - val_loss: 0.4121 - val_accuracy: 0.8486\n",
            "Epoch 31/50\n",
            "54/54 [==============================] - 161s 3s/step - loss: 0.4056 - accuracy: 0.8517 - val_loss: 0.4122 - val_accuracy: 0.8486\n",
            "Epoch 32/50\n",
            "54/54 [==============================] - 163s 3s/step - loss: 0.4063 - accuracy: 0.8562 - val_loss: 0.4523 - val_accuracy: 0.8350\n",
            "Epoch 33/50\n",
            "54/54 [==============================] - 162s 3s/step - loss: 0.3956 - accuracy: 0.8585 - val_loss: 0.4011 - val_accuracy: 0.8522\n",
            "Epoch 34/50\n",
            "54/54 [==============================] - 160s 3s/step - loss: 0.3858 - accuracy: 0.8620 - val_loss: 0.4098 - val_accuracy: 0.8549\n",
            "Epoch 35/50\n",
            "54/54 [==============================] - 170s 3s/step - loss: 0.3865 - accuracy: 0.8597 - val_loss: 0.4313 - val_accuracy: 0.8507\n",
            "Epoch 36/50\n",
            "54/54 [==============================] - 160s 3s/step - loss: 0.3713 - accuracy: 0.8687 - val_loss: 0.4004 - val_accuracy: 0.8573\n",
            "Epoch 37/50\n",
            "54/54 [==============================] - 170s 3s/step - loss: 0.3751 - accuracy: 0.8621 - val_loss: 0.3799 - val_accuracy: 0.8603\n",
            "Epoch 38/50\n",
            "54/54 [==============================] - 160s 3s/step - loss: 0.3667 - accuracy: 0.8666 - val_loss: 0.4244 - val_accuracy: 0.8438\n",
            "Epoch 39/50\n",
            "54/54 [==============================] - 160s 3s/step - loss: 0.3693 - accuracy: 0.8637 - val_loss: 0.4018 - val_accuracy: 0.8570\n",
            "Epoch 40/50\n",
            "54/54 [==============================] - 160s 3s/step - loss: 0.3580 - accuracy: 0.8722 - val_loss: 0.3665 - val_accuracy: 0.8741\n",
            "Epoch 41/50\n",
            "54/54 [==============================] - 169s 3s/step - loss: 0.3429 - accuracy: 0.8783 - val_loss: 0.4215 - val_accuracy: 0.8498\n",
            "Epoch 42/50\n",
            "54/54 [==============================] - 169s 3s/step - loss: 0.3577 - accuracy: 0.8717 - val_loss: 0.3870 - val_accuracy: 0.8684\n",
            "Epoch 43/50\n",
            "54/54 [==============================] - 161s 3s/step - loss: 0.3542 - accuracy: 0.8722 - val_loss: 0.3641 - val_accuracy: 0.8771\n",
            "Epoch 44/50\n",
            "54/54 [==============================] - 161s 3s/step - loss: 0.3378 - accuracy: 0.8766 - val_loss: 0.3597 - val_accuracy: 0.8720\n",
            "Epoch 45/50\n",
            "54/54 [==============================] - 170s 3s/step - loss: 0.3410 - accuracy: 0.8789 - val_loss: 0.4224 - val_accuracy: 0.8534\n",
            "Epoch 46/50\n",
            "54/54 [==============================] - 161s 3s/step - loss: 0.3341 - accuracy: 0.8803 - val_loss: 0.3517 - val_accuracy: 0.8780\n",
            "Epoch 47/50\n",
            "54/54 [==============================] - 160s 3s/step - loss: 0.3454 - accuracy: 0.8749 - val_loss: 0.3793 - val_accuracy: 0.8639\n",
            "Epoch 48/50\n",
            "54/54 [==============================] - 169s 3s/step - loss: 0.3352 - accuracy: 0.8783 - val_loss: 0.3609 - val_accuracy: 0.8762\n",
            "Epoch 49/50\n",
            "54/54 [==============================] - 159s 3s/step - loss: 0.3236 - accuracy: 0.8811 - val_loss: 0.3583 - val_accuracy: 0.8807\n",
            "Epoch 50/50\n",
            "54/54 [==============================] - 169s 3s/step - loss: 0.3165 - accuracy: 0.8863 - val_loss: 0.3737 - val_accuracy: 0.8705\n"
          ],
          "name": "stdout"
        }
      ]
    },
    {
      "cell_type": "code",
      "metadata": {
        "colab": {
          "base_uri": "https://localhost:8080/",
          "height": 295
        },
        "id": "YHjRVMadS61m",
        "outputId": "ac416002-91ad-42c6-a2b8-b814803d7bef"
      },
      "source": [
        "plt.plot(history.history['accuracy'])\n",
        "plt.plot(history.history['val_accuracy'])\n",
        "plt.title('Accuracy')\n",
        "plt.ylabel('accuracy')\n",
        "plt.xlabel('epoch')\n",
        "plt.legend(['train', 'val'], loc='upper left')\n",
        "plt.show()"
      ],
      "execution_count": 19,
      "outputs": [
        {
          "output_type": "display_data",
          "data": {
            "image/png": "[encoded data removed]",
            "text/plain": [
              "<Figure size 432x288 with 1 Axes>"
            ]
          },
          "metadata": {
            "tags": [],
            "needs_background": "light"
          }
        }
      ]
    },
    {
      "cell_type": "code",
      "metadata": {
        "colab": {
          "base_uri": "https://localhost:8080/",
          "height": 295
        },
        "id": "g_TkEckDS_wW",
        "outputId": "3830cf9c-2c2a-4178-ce89-f897465b2205"
      },
      "source": [
        "\n",
        "plt.plot(history.history['loss'])\n",
        "plt.plot(history.history['val_loss'])\n",
        "plt.title('Loss')\n",
        "plt.ylabel('loss')\n",
        "plt.xlabel('epoch')\n",
        "plt.legend(['train', 'val'], loc='upper left')\n",
        "plt.show()"
      ],
      "execution_count": 20,
      "outputs": [
        {
          "output_type": "display_data",
          "data": {
            "image/png": "[encoded data removed]",
            "text/plain": [
              "<Figure size 432x288 with 1 Axes>"
            ]
          },
          "metadata": {
            "tags": [],
            "needs_background": "light"
          }
        }
      ]
    },
    {
      "cell_type": "code",
      "metadata": {
        "colab": {
          "base_uri": "https://localhost:8080/"
        },
        "id": "zNTa4XPBTDOE",
        "outputId": "5d2d61d9-8a24-41ce-a8c2-238e223ee10c"
      },
      "source": [
        "converter = tf.lite.TFLiteConverter.from_keras_model(model)\n",
        "tflite_model = converter.convert()\n",
        "\n",
        "with tf.io.gfile.GFile('model.tflite', 'wb') as f:\n",
        "  f.write(tflite_model)"
      ],
      "execution_count": 21,
      "outputs": [
        {
          "output_type": "stream",
          "text": [
            "INFO:tensorflow:Assets written to: /tmp/tmp_qq5_w79/assets\n"
          ],
          "name": "stdout"
        }
      ]
    },
    {
      "cell_type": "code",
      "metadata": {
        "colab": {
          "base_uri": "https://localhost:8080/"
        },
        "id": "w24ekgrKTTa0",
        "outputId": "2c502000-5d49-4d92-cc23-cb47440c4bef"
      },
      "source": [
        "!ls -la | grep 'model'"
      ],
      "execution_count": 22,
      "outputs": [
        {
          "output_type": "stream",
          "text": [
            "-rw-r--r-- 1 root root   6957664 Jul 14 13:54 model.tflite\n"
          ],
          "name": "stdout"
        }
      ]
    }
  ]
}