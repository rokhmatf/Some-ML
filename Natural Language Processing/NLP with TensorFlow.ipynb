{
  "nbformat": 4,
  "nbformat_minor": 0,
  "metadata": {
    "colab": {
      "name": "Dicoding Membuat Model NLP dengan TensorFlow.ipynb",
      "provenance": [],
      "collapsed_sections": []
    },
    "kernelspec": {
      "display_name": "Python 3",
      "name": "python3"
    },
    "language_info": {
      "name": "python"
    }
  },
  "cells": [
    {
      "cell_type": "code",
      "metadata": {
        "id": "SP4WL4lMo3e-"
      },
      "source": [
        "import pandas as pd\n",
        "import tensorflow as tf\n",
        "import matplotlib.pyplot as plt\n",
        "\n",
        "import nltk\n",
        "import os\n",
        "import re\n",
        "import string\n",
        "\n",
        "from nltk.corpus import stopwords\n",
        "from nltk.stem import WordNetLemmatizer\n",
        "from nltk.corpus import wordnet as wn\n",
        "\n",
        "from sklearn.model_selection import train_test_split\n",
        "\n",
        "from tensorflow.keras.preprocessing.text import Tokenizer\n",
        "from tensorflow.keras.preprocessing.sequence import pad_sequences"
      ],
      "execution_count": 1,
      "outputs": []
    },
    {
      "cell_type": "code",
      "metadata": {
        "colab": {
          "base_uri": "https://localhost:8080/",
          "height": 417
        },
        "id": "Jil93WvL7O17",
        "outputId": "40213cc4-807f-4e59-94c2-a9f51f9023e8"
      },
      "source": [
        "df = pd.read_csv('/content/drive/MyDrive/Dataset/bbc-news-data.csv', sep='\\t')\n",
        "df = df.drop(columns=['filename'])\n",
        "df"
      ],
      "execution_count": 2,
      "outputs": [
        {
          "output_type": "execute_result",
          "data": {
            "text/html": [
              "<div>\n",
              "<style scoped>\n",
              "    .dataframe tbody tr th:only-of-type {\n",
              "        vertical-align: middle;\n",
              "    }\n",
              "\n",
              "    .dataframe tbody tr th {\n",
              "        vertical-align: top;\n",
              "    }\n",
              "\n",
              "    .dataframe thead th {\n",
              "        text-align: right;\n",
              "    }\n",
              "</style>\n",
              "<table border=\"1\" class=\"dataframe\">\n",
              "  <thead>\n",
              "    <tr style=\"text-align: right;\">\n",
              "      <th></th>\n",
              "      <th>category</th>\n",
              "      <th>title</th>\n",
              "      <th>content</th>\n",
              "    </tr>\n",
              "  </thead>\n",
              "  <tbody>\n",
              "    <tr>\n",
              "      <th>0</th>\n",
              "      <td>business</td>\n",
              "      <td>Ad sales boost Time Warner profit</td>\n",
              "      <td>Quarterly profits at US media giant TimeWarne...</td>\n",
              "    </tr>\n",
              "    <tr>\n",
              "      <th>1</th>\n",
              "      <td>business</td>\n",
              "      <td>Dollar gains on Greenspan speech</td>\n",
              "      <td>The dollar has hit its highest level against ...</td>\n",
              "    </tr>\n",
              "    <tr>\n",
              "      <th>2</th>\n",
              "      <td>business</td>\n",
              "      <td>Yukos unit buyer faces loan claim</td>\n",
              "      <td>The owners of embattled Russian oil giant Yuk...</td>\n",
              "    </tr>\n",
              "    <tr>\n",
              "      <th>3</th>\n",
              "      <td>business</td>\n",
              "      <td>High fuel prices hit BA's profits</td>\n",
              "      <td>British Airways has blamed high fuel prices f...</td>\n",
              "    </tr>\n",
              "    <tr>\n",
              "      <th>4</th>\n",
              "      <td>business</td>\n",
              "      <td>Pernod takeover talk lifts Domecq</td>\n",
              "      <td>Shares in UK drinks and food firm Allied Dome...</td>\n",
              "    </tr>\n",
              "    <tr>\n",
              "      <th>...</th>\n",
              "      <td>...</td>\n",
              "      <td>...</td>\n",
              "      <td>...</td>\n",
              "    </tr>\n",
              "    <tr>\n",
              "      <th>2220</th>\n",
              "      <td>tech</td>\n",
              "      <td>BT program to beat dialler scams</td>\n",
              "      <td>BT is introducing two initiatives to help bea...</td>\n",
              "    </tr>\n",
              "    <tr>\n",
              "      <th>2221</th>\n",
              "      <td>tech</td>\n",
              "      <td>Spam e-mails tempt net shoppers</td>\n",
              "      <td>Computer users across the world continue to i...</td>\n",
              "    </tr>\n",
              "    <tr>\n",
              "      <th>2222</th>\n",
              "      <td>tech</td>\n",
              "      <td>Be careful how you code</td>\n",
              "      <td>A new European directive could put software w...</td>\n",
              "    </tr>\n",
              "    <tr>\n",
              "      <th>2223</th>\n",
              "      <td>tech</td>\n",
              "      <td>US cyber security chief resigns</td>\n",
              "      <td>The man making sure US computer networks are ...</td>\n",
              "    </tr>\n",
              "    <tr>\n",
              "      <th>2224</th>\n",
              "      <td>tech</td>\n",
              "      <td>Losing yourself in online gaming</td>\n",
              "      <td>Online role playing games are time-consuming,...</td>\n",
              "    </tr>\n",
              "  </tbody>\n",
              "</table>\n",
              "<p>2225 rows × 3 columns</p>\n",
              "</div>"
            ],
            "text/plain": [
              "      category  ...                                            content\n",
              "0     business  ...   Quarterly profits at US media giant TimeWarne...\n",
              "1     business  ...   The dollar has hit its highest level against ...\n",
              "2     business  ...   The owners of embattled Russian oil giant Yuk...\n",
              "3     business  ...   British Airways has blamed high fuel prices f...\n",
              "4     business  ...   Shares in UK drinks and food firm Allied Dome...\n",
              "...        ...  ...                                                ...\n",
              "2220      tech  ...   BT is introducing two initiatives to help bea...\n",
              "2221      tech  ...   Computer users across the world continue to i...\n",
              "2222      tech  ...   A new European directive could put software w...\n",
              "2223      tech  ...   The man making sure US computer networks are ...\n",
              "2224      tech  ...   Online role playing games are time-consuming,...\n",
              "\n",
              "[2225 rows x 3 columns]"
            ]
          },
          "metadata": {
            "tags": []
          },
          "execution_count": 2
        }
      ]
    },
    {
      "cell_type": "code",
      "metadata": {
        "colab": {
          "base_uri": "https://localhost:8080/"
        },
        "id": "OtAlHYAEvUZG",
        "outputId": "c70fc865-e994-4622-f4d7-7b736af2adce"
      },
      "source": [
        "nltk.download('wordnet')\n",
        "nltk.download('stopwords')"
      ],
      "execution_count": 3,
      "outputs": [
        {
          "output_type": "stream",
          "text": [
            "[nltk_data] Downloading package wordnet to /root/nltk_data...\n",
            "[nltk_data]   Unzipping corpora/wordnet.zip.\n",
            "[nltk_data] Downloading package stopwords to /root/nltk_data...\n",
            "[nltk_data]   Unzipping corpora/stopwords.zip.\n"
          ],
          "name": "stdout"
        },
        {
          "output_type": "execute_result",
          "data": {
            "text/plain": [
              "True"
            ]
          },
          "metadata": {
            "tags": []
          },
          "execution_count": 3
        }
      ]
    },
    {
      "cell_type": "code",
      "metadata": {
        "id": "wXgd4sMcvCSi"
      },
      "source": [
        "## lematization\n",
        "lemmatizer = WordNetLemmatizer()\n",
        "\n",
        "def lem(data):\n",
        "    pos_dict = {'N': wn.NOUN, 'V': wn.VERB, 'J': wn.ADJ, 'R': wn.ADV}\n",
        "    return(' '.join([lemmatizer.lemmatize(w,pos_dict.get(t, wn.NOUN)) for w,t in nltk.pos_tag(data.split())]))\n",
        "    df.title = df.title.apply(lambda x: lem(x))\n",
        "    df.content = df.content.apply(lambda x: lem(x))"
      ],
      "execution_count": 4,
      "outputs": []
    },
    {
      "cell_type": "code",
      "metadata": {
        "id": "DbEgDfULvH5R"
      },
      "source": [
        "# removing stopword\n",
        "st_words = stopwords.words()\n",
        "def stopword(data):\n",
        "    return(' '.join([w for w in data.split() if w not in st_words ]))\n",
        "    df.title = df.title.apply(lambda x: stopword(x))\n",
        "    df.content = df.content.apply(lambda x: lem(x))"
      ],
      "execution_count": 5,
      "outputs": []
    },
    {
      "cell_type": "code",
      "metadata": {
        "id": "vBmI2xynvlCD"
      },
      "source": [
        "# removing functuation\n",
        "def cleaner(data):\n",
        "    return(data.translate(str.maketrans('','', string.punctuation)))\n",
        "    df_new.title = df_new.title.apply(lambda x: cleaner(x))\n",
        "    df_new.content = df_new.content.apply(lambda x: lem(x))"
      ],
      "execution_count": 6,
      "outputs": []
    },
    {
      "cell_type": "code",
      "metadata": {
        "colab": {
          "base_uri": "https://localhost:8080/",
          "height": 417
        },
        "id": "oGhkxttN8qmh",
        "outputId": "55f12fd5-271d-4697-9734-7dab9aed453e"
      },
      "source": [
        "# One-hot encoding\n",
        "\n",
        "category = pd.get_dummies(df.category)\n",
        "df_encoding = pd.concat([df, category], axis=1)\n",
        "df_encoding = df_encoding.drop(columns='category')\n",
        "df_encoding"
      ],
      "execution_count": 7,
      "outputs": [
        {
          "output_type": "execute_result",
          "data": {
            "text/html": [
              "<div>\n",
              "<style scoped>\n",
              "    .dataframe tbody tr th:only-of-type {\n",
              "        vertical-align: middle;\n",
              "    }\n",
              "\n",
              "    .dataframe tbody tr th {\n",
              "        vertical-align: top;\n",
              "    }\n",
              "\n",
              "    .dataframe thead th {\n",
              "        text-align: right;\n",
              "    }\n",
              "</style>\n",
              "<table border=\"1\" class=\"dataframe\">\n",
              "  <thead>\n",
              "    <tr style=\"text-align: right;\">\n",
              "      <th></th>\n",
              "      <th>title</th>\n",
              "      <th>content</th>\n",
              "      <th>business</th>\n",
              "      <th>entertainment</th>\n",
              "      <th>politics</th>\n",
              "      <th>sport</th>\n",
              "      <th>tech</th>\n",
              "    </tr>\n",
              "  </thead>\n",
              "  <tbody>\n",
              "    <tr>\n",
              "      <th>0</th>\n",
              "      <td>Ad sales boost Time Warner profit</td>\n",
              "      <td>Quarterly profits at US media giant TimeWarne...</td>\n",
              "      <td>1</td>\n",
              "      <td>0</td>\n",
              "      <td>0</td>\n",
              "      <td>0</td>\n",
              "      <td>0</td>\n",
              "    </tr>\n",
              "    <tr>\n",
              "      <th>1</th>\n",
              "      <td>Dollar gains on Greenspan speech</td>\n",
              "      <td>The dollar has hit its highest level against ...</td>\n",
              "      <td>1</td>\n",
              "      <td>0</td>\n",
              "      <td>0</td>\n",
              "      <td>0</td>\n",
              "      <td>0</td>\n",
              "    </tr>\n",
              "    <tr>\n",
              "      <th>2</th>\n",
              "      <td>Yukos unit buyer faces loan claim</td>\n",
              "      <td>The owners of embattled Russian oil giant Yuk...</td>\n",
              "      <td>1</td>\n",
              "      <td>0</td>\n",
              "      <td>0</td>\n",
              "      <td>0</td>\n",
              "      <td>0</td>\n",
              "    </tr>\n",
              "    <tr>\n",
              "      <th>3</th>\n",
              "      <td>High fuel prices hit BA's profits</td>\n",
              "      <td>British Airways has blamed high fuel prices f...</td>\n",
              "      <td>1</td>\n",
              "      <td>0</td>\n",
              "      <td>0</td>\n",
              "      <td>0</td>\n",
              "      <td>0</td>\n",
              "    </tr>\n",
              "    <tr>\n",
              "      <th>4</th>\n",
              "      <td>Pernod takeover talk lifts Domecq</td>\n",
              "      <td>Shares in UK drinks and food firm Allied Dome...</td>\n",
              "      <td>1</td>\n",
              "      <td>0</td>\n",
              "      <td>0</td>\n",
              "      <td>0</td>\n",
              "      <td>0</td>\n",
              "    </tr>\n",
              "    <tr>\n",
              "      <th>...</th>\n",
              "      <td>...</td>\n",
              "      <td>...</td>\n",
              "      <td>...</td>\n",
              "      <td>...</td>\n",
              "      <td>...</td>\n",
              "      <td>...</td>\n",
              "      <td>...</td>\n",
              "    </tr>\n",
              "    <tr>\n",
              "      <th>2220</th>\n",
              "      <td>BT program to beat dialler scams</td>\n",
              "      <td>BT is introducing two initiatives to help bea...</td>\n",
              "      <td>0</td>\n",
              "      <td>0</td>\n",
              "      <td>0</td>\n",
              "      <td>0</td>\n",
              "      <td>1</td>\n",
              "    </tr>\n",
              "    <tr>\n",
              "      <th>2221</th>\n",
              "      <td>Spam e-mails tempt net shoppers</td>\n",
              "      <td>Computer users across the world continue to i...</td>\n",
              "      <td>0</td>\n",
              "      <td>0</td>\n",
              "      <td>0</td>\n",
              "      <td>0</td>\n",
              "      <td>1</td>\n",
              "    </tr>\n",
              "    <tr>\n",
              "      <th>2222</th>\n",
              "      <td>Be careful how you code</td>\n",
              "      <td>A new European directive could put software w...</td>\n",
              "      <td>0</td>\n",
              "      <td>0</td>\n",
              "      <td>0</td>\n",
              "      <td>0</td>\n",
              "      <td>1</td>\n",
              "    </tr>\n",
              "    <tr>\n",
              "      <th>2223</th>\n",
              "      <td>US cyber security chief resigns</td>\n",
              "      <td>The man making sure US computer networks are ...</td>\n",
              "      <td>0</td>\n",
              "      <td>0</td>\n",
              "      <td>0</td>\n",
              "      <td>0</td>\n",
              "      <td>1</td>\n",
              "    </tr>\n",
              "    <tr>\n",
              "      <th>2224</th>\n",
              "      <td>Losing yourself in online gaming</td>\n",
              "      <td>Online role playing games are time-consuming,...</td>\n",
              "      <td>0</td>\n",
              "      <td>0</td>\n",
              "      <td>0</td>\n",
              "      <td>0</td>\n",
              "      <td>1</td>\n",
              "    </tr>\n",
              "  </tbody>\n",
              "</table>\n",
              "<p>2225 rows × 7 columns</p>\n",
              "</div>"
            ],
            "text/plain": [
              "                                  title  ... tech\n",
              "0     Ad sales boost Time Warner profit  ...    0\n",
              "1      Dollar gains on Greenspan speech  ...    0\n",
              "2     Yukos unit buyer faces loan claim  ...    0\n",
              "3     High fuel prices hit BA's profits  ...    0\n",
              "4     Pernod takeover talk lifts Domecq  ...    0\n",
              "...                                 ...  ...  ...\n",
              "2220   BT program to beat dialler scams  ...    1\n",
              "2221    Spam e-mails tempt net shoppers  ...    1\n",
              "2222            Be careful how you code  ...    1\n",
              "2223    US cyber security chief resigns  ...    1\n",
              "2224   Losing yourself in online gaming  ...    1\n",
              "\n",
              "[2225 rows x 7 columns]"
            ]
          },
          "metadata": {
            "tags": []
          },
          "execution_count": 7
        }
      ]
    },
    {
      "cell_type": "code",
      "metadata": {
        "id": "16hTI5fn9OsN"
      },
      "source": [
        "# Change dataframe values\n",
        "\n",
        "bbcNews = df_encoding['title'].values + '' + df_encoding['content'].values\n",
        "label = df_encoding[['business', 'entertainment', 'politics', 'sport', 'tech']].values"
      ],
      "execution_count": 8,
      "outputs": []
    },
    {
      "cell_type": "code",
      "metadata": {
        "id": "O7PPHRbn-DQP"
      },
      "source": [
        "# Split data\n",
        "\n",
        "bbcNews_train, bbcNews_test, label_train, label_test = train_test_split(bbcNews, label, test_size=0.2, shuffle=True)"
      ],
      "execution_count": 9,
      "outputs": []
    },
    {
      "cell_type": "code",
      "metadata": {
        "id": "3ElkCB77-0BE"
      },
      "source": [
        "# Apply tokenizer\n",
        "\n",
        "tokenizer = Tokenizer(num_words=5000, oov_token='x', filters=';<=>@%&()|}*+!\"#$^_,-:[\\]`{./~ ')\n",
        "tokenizer.fit_on_texts(bbcNews_train) \n",
        "tokenizer.fit_on_texts(bbcNews_test)\n",
        " \n",
        "sequence_train = tokenizer.texts_to_sequences(bbcNews_train)\n",
        "sequence_test = tokenizer.texts_to_sequences(bbcNews_test)\n",
        " \n",
        "pad_train = pad_sequences(sequence_train) \n",
        "pad_test = pad_sequences(sequence_test)"
      ],
      "execution_count": 10,
      "outputs": []
    },
    {
      "cell_type": "code",
      "metadata": {
        "id": "_oOc3WlI_tSy"
      },
      "source": [
        "model = tf.keras.Sequential([\n",
        "    tf.keras.layers.Embedding(input_dim=5000, output_dim=64),\n",
        "    tf.keras.layers.LSTM(128),\n",
        "    tf.keras.layers.Dense(128, activation='relu'),\n",
        "    tf.keras.layers.Dropout(0.5),\n",
        "    tf.keras.layers.Dense(5, activation='softmax')\n",
        "])"
      ],
      "execution_count": 11,
      "outputs": []
    },
    {
      "cell_type": "code",
      "metadata": {
        "id": "7OZsVdmP_wOG"
      },
      "source": [
        "model.compile(optimizer='adam',\n",
        "              metrics=['accuracy'],\n",
        "              loss='categorical_crossentropy',)"
      ],
      "execution_count": 12,
      "outputs": []
    },
    {
      "cell_type": "code",
      "metadata": {
        "colab": {
          "base_uri": "https://localhost:8080/"
        },
        "id": "NoIpW2kU_y9n",
        "outputId": "43496e0c-0a48-4443-8b8b-46af53424f82"
      },
      "source": [
        "model.summary()"
      ],
      "execution_count": 13,
      "outputs": [
        {
          "output_type": "stream",
          "text": [
            "Model: \"sequential\"\n",
            "_________________________________________________________________\n",
            "Layer (type)                 Output Shape              Param #   \n",
            "=================================================================\n",
            "embedding (Embedding)        (None, None, 64)          320000    \n",
            "_________________________________________________________________\n",
            "lstm (LSTM)                  (None, 128)               98816     \n",
            "_________________________________________________________________\n",
            "dense (Dense)                (None, 128)               16512     \n",
            "_________________________________________________________________\n",
            "dropout (Dropout)            (None, 128)               0         \n",
            "_________________________________________________________________\n",
            "dense_1 (Dense)              (None, 5)                 645       \n",
            "=================================================================\n",
            "Total params: 435,973\n",
            "Trainable params: 435,973\n",
            "Non-trainable params: 0\n",
            "_________________________________________________________________\n"
          ],
          "name": "stdout"
        }
      ]
    },
    {
      "cell_type": "code",
      "metadata": {
        "id": "lqB3idUnAUhC"
      },
      "source": [
        "# callback\n",
        "\n",
        "class myCallback(tf.keras.callbacks.Callback):\n",
        "  def on_epoch_end(self, epoch, logs={}):\n",
        "    if(logs.get('accuracy')>0.93 and logs.get('val_accuracy')>0.93):\n",
        "      self.model.stop_training = True\n",
        "      print(\"\\nThe accuracy has reached more than 93%!\")\n",
        "callbacks = myCallback()"
      ],
      "execution_count": 14,
      "outputs": []
    },
    {
      "cell_type": "code",
      "metadata": {
        "colab": {
          "base_uri": "https://localhost:8080/"
        },
        "id": "4v2jcImnAlnu",
        "outputId": "433edd65-cb30-445e-8b19-b0a06e10173e"
      },
      "source": [
        "number_epochs = 40\n",
        "history = model.fit(pad_train, label_train, epochs=number_epochs, \n",
        "                    validation_data=(pad_test, label_test), verbose=2,\n",
        "                    callbacks=[callbacks])"
      ],
      "execution_count": 15,
      "outputs": [
        {
          "output_type": "stream",
          "text": [
            "Epoch 1/40\n",
            "56/56 - 339s - loss: 1.5988 - accuracy: 0.2393 - val_loss: 1.5161 - val_accuracy: 0.2899\n",
            "Epoch 2/40\n",
            "56/56 - 331s - loss: 1.2621 - accuracy: 0.4416 - val_loss: 1.0264 - val_accuracy: 0.5258\n",
            "Epoch 3/40\n",
            "56/56 - 336s - loss: 0.7317 - accuracy: 0.6966 - val_loss: 0.5944 - val_accuracy: 0.7416\n",
            "Epoch 4/40\n",
            "56/56 - 333s - loss: 0.6896 - accuracy: 0.7455 - val_loss: 1.0094 - val_accuracy: 0.6135\n",
            "Epoch 5/40\n",
            "56/56 - 335s - loss: 0.5656 - accuracy: 0.8090 - val_loss: 0.7211 - val_accuracy: 0.7258\n",
            "Epoch 6/40\n",
            "56/56 - 333s - loss: 0.1566 - accuracy: 0.9556 - val_loss: 0.5381 - val_accuracy: 0.8292\n",
            "Epoch 7/40\n",
            "56/56 - 332s - loss: 0.1222 - accuracy: 0.9657 - val_loss: 0.6122 - val_accuracy: 0.8157\n",
            "Epoch 8/40\n",
            "56/56 - 333s - loss: 0.0309 - accuracy: 0.9949 - val_loss: 0.6910 - val_accuracy: 0.8292\n",
            "Epoch 9/40\n",
            "56/56 - 333s - loss: 0.0361 - accuracy: 0.9910 - val_loss: 0.7174 - val_accuracy: 0.8157\n",
            "Epoch 10/40\n",
            "56/56 - 334s - loss: 0.0108 - accuracy: 0.9989 - val_loss: 0.6201 - val_accuracy: 0.8517\n",
            "Epoch 11/40\n",
            "56/56 - 334s - loss: 0.0064 - accuracy: 0.9994 - val_loss: 0.6239 - val_accuracy: 0.8652\n",
            "Epoch 12/40\n",
            "56/56 - 332s - loss: 0.0096 - accuracy: 0.9983 - val_loss: 0.9400 - val_accuracy: 0.7708\n",
            "Epoch 13/40\n",
            "56/56 - 332s - loss: 0.0452 - accuracy: 0.9854 - val_loss: 0.7177 - val_accuracy: 0.8135\n",
            "Epoch 14/40\n",
            "56/56 - 332s - loss: 0.0038 - accuracy: 1.0000 - val_loss: 0.6604 - val_accuracy: 0.8494\n",
            "Epoch 15/40\n",
            "56/56 - 333s - loss: 0.0017 - accuracy: 1.0000 - val_loss: 0.6356 - val_accuracy: 0.8697\n",
            "Epoch 16/40\n",
            "56/56 - 335s - loss: 9.9100e-04 - accuracy: 1.0000 - val_loss: 0.6118 - val_accuracy: 0.8674\n",
            "Epoch 17/40\n",
            "56/56 - 332s - loss: 8.8043e-04 - accuracy: 1.0000 - val_loss: 0.5908 - val_accuracy: 0.8809\n",
            "Epoch 18/40\n",
            "56/56 - 332s - loss: 5.2857e-04 - accuracy: 1.0000 - val_loss: 0.5749 - val_accuracy: 0.8899\n",
            "Epoch 19/40\n",
            "56/56 - 339s - loss: 5.2986e-04 - accuracy: 1.0000 - val_loss: 0.5800 - val_accuracy: 0.8921\n",
            "Epoch 20/40\n",
            "56/56 - 337s - loss: 4.1139e-04 - accuracy: 1.0000 - val_loss: 0.5809 - val_accuracy: 0.8899\n",
            "Epoch 21/40\n",
            "56/56 - 332s - loss: 4.1090e-04 - accuracy: 1.0000 - val_loss: 0.5773 - val_accuracy: 0.8854\n",
            "Epoch 22/40\n",
            "56/56 - 333s - loss: 4.7730e-04 - accuracy: 1.0000 - val_loss: 0.5987 - val_accuracy: 0.8876\n",
            "Epoch 23/40\n",
            "56/56 - 332s - loss: 2.5131e-04 - accuracy: 1.0000 - val_loss: 0.5818 - val_accuracy: 0.8921\n",
            "Epoch 24/40\n",
            "56/56 - 332s - loss: 2.5972e-04 - accuracy: 1.0000 - val_loss: 0.5777 - val_accuracy: 0.8944\n",
            "Epoch 25/40\n",
            "56/56 - 334s - loss: 2.3729e-04 - accuracy: 1.0000 - val_loss: 0.5748 - val_accuracy: 0.8966\n",
            "Epoch 26/40\n",
            "56/56 - 333s - loss: 2.3559e-04 - accuracy: 1.0000 - val_loss: 0.5654 - val_accuracy: 0.9034\n",
            "Epoch 27/40\n",
            "56/56 - 333s - loss: 1.7356e-04 - accuracy: 1.0000 - val_loss: 0.5667 - val_accuracy: 0.9034\n",
            "Epoch 28/40\n",
            "56/56 - 332s - loss: 1.8837e-04 - accuracy: 1.0000 - val_loss: 0.5855 - val_accuracy: 0.9011\n",
            "Epoch 29/40\n",
            "56/56 - 331s - loss: 1.9236e-04 - accuracy: 1.0000 - val_loss: 0.5564 - val_accuracy: 0.9101\n",
            "Epoch 30/40\n",
            "56/56 - 331s - loss: 1.8534e-04 - accuracy: 1.0000 - val_loss: 0.5647 - val_accuracy: 0.9079\n",
            "Epoch 31/40\n",
            "56/56 - 332s - loss: 1.3835e-04 - accuracy: 1.0000 - val_loss: 0.5772 - val_accuracy: 0.9079\n",
            "Epoch 32/40\n",
            "56/56 - 332s - loss: 1.2944e-04 - accuracy: 1.0000 - val_loss: 0.5745 - val_accuracy: 0.9101\n",
            "Epoch 33/40\n",
            "56/56 - 332s - loss: 1.4492e-04 - accuracy: 1.0000 - val_loss: 0.5691 - val_accuracy: 0.9146\n",
            "Epoch 34/40\n",
            "56/56 - 330s - loss: 1.2021e-04 - accuracy: 1.0000 - val_loss: 0.5728 - val_accuracy: 0.9191\n",
            "Epoch 35/40\n",
            "56/56 - 330s - loss: 1.5047e-04 - accuracy: 1.0000 - val_loss: 0.5742 - val_accuracy: 0.9169\n",
            "Epoch 36/40\n",
            "56/56 - 331s - loss: 9.5315e-05 - accuracy: 1.0000 - val_loss: 0.5480 - val_accuracy: 0.9236\n",
            "Epoch 37/40\n",
            "56/56 - 331s - loss: 9.4954e-05 - accuracy: 1.0000 - val_loss: 0.5596 - val_accuracy: 0.9303\n",
            "\n",
            "The accuracy has reached more than 93%!\n"
          ],
          "name": "stdout"
        }
      ]
    },
    {
      "cell_type": "code",
      "metadata": {
        "colab": {
          "base_uri": "https://localhost:8080/"
        },
        "id": "EaHySHOp_PRW",
        "outputId": "951308b8-3f6b-4566-f8a0-e5fae869183b"
      },
      "source": [
        "score = model.evaluate(pad_train, label_train)\n",
        "\n",
        "print('Loss: {:.4f}'.format(score[0]))\n",
        "print('Accuracy: {:.4f}'.format(score[1]))"
      ],
      "execution_count": 16,
      "outputs": [
        {
          "output_type": "stream",
          "text": [
            "56/56 [==============================] - 71s 1s/step - loss: 6.2365e-06 - accuracy: 1.0000\n",
            "Loss: 0.0000\n",
            "Accuracy: 1.0000\n"
          ],
          "name": "stdout"
        }
      ]
    },
    {
      "cell_type": "code",
      "metadata": {
        "colab": {
          "base_uri": "https://localhost:8080/"
        },
        "id": "6I2315f5_i9b",
        "outputId": "e7484608-4dd0-47f2-d2e3-8bbb04c73953"
      },
      "source": [
        "score = model.evaluate(pad_test, label_test)\n",
        "\n",
        "print('Loss: {:.4f}'.format(score[0]))\n",
        "print('Accuracy: {:.4f}'.format(score[1]))"
      ],
      "execution_count": 17,
      "outputs": [
        {
          "output_type": "stream",
          "text": [
            "14/14 [==============================] - 14s 976ms/step - loss: 0.5596 - accuracy: 0.9303\n",
            "Loss: 0.5596\n",
            "Accuracy: 0.9303\n"
          ],
          "name": "stdout"
        }
      ]
    },
    {
      "cell_type": "code",
      "metadata": {
        "colab": {
          "base_uri": "https://localhost:8080/",
          "height": 513
        },
        "id": "cAL9zl13AGgF",
        "outputId": "29831a81-1b40-4157-d98b-5e8c729678ea"
      },
      "source": [
        "acc = history.history['accuracy']\n",
        "val_acc = history.history['val_accuracy']\n",
        "\n",
        "loss = history.history['loss']\n",
        "val_loss = history.history['val_loss']\n",
        "\n",
        "epochs_range = range(number_epochs)\n",
        "\n",
        "plt.figure(figsize=(8, 8))\n",
        "plt.subplot(1, 2, 1)\n",
        "plt.plot(acc, label='Training Accuracy')\n",
        "plt.plot(val_acc, label='Validation Accuracy')\n",
        "plt.legend(loc='upper left')\n",
        "plt.title('Training and Validation Accuracy')\n",
        "plt.ylabel('accuracy')\n",
        "plt.xlabel('epoch')\n",
        "\n",
        "plt.subplot(1, 2, 2)\n",
        "plt.plot(loss, label='Training Loss')\n",
        "plt.plot(val_loss, label='Validation Loss')\n",
        "plt.legend(loc='upper right')\n",
        "plt.title('Training and Validation Loss')\n",
        "plt.ylabel('loss')\n",
        "plt.xlabel('epoch')\n",
        "\n",
        "plt.show()"
      ],
      "execution_count": 19,
      "outputs": [
        {
          "output_type": "display_data",
          "data": {
            "image/png": "[encoded data removed]",
            "text/plain": [
              "<Figure size 576x576 with 2 Axes>"
            ]
          },
          "metadata": {
            "tags": [],
            "needs_background": "light"
          }
        }
      ]
    },
    {
      "cell_type": "markdown",
      "metadata": {
        "id": "zVphrztOB68E"
      },
      "source": [
        "Rokhmat Febrianto\n",
        "\n",
        "Bergabung sejak 16 Mar 2021\n",
        "\n",
        "Kabupaten Sidoarjo, Jawa Timur "
      ]
    }
  ]
}